{
  "nbformat": 4,
  "nbformat_minor": 0,
  "metadata": {
    "colab": {
      "name": "deeeplarning-pytorch.ipynb",
      "provenance": [],
      "include_colab_link": true
    },
    "kernelspec": {
      "name": "python3",
      "display_name": "Python 3"
    },
    "accelerator": "GPU"
  },
  "cells": [
    {
      "cell_type": "markdown",
      "metadata": {
        "id": "view-in-github",
        "colab_type": "text"
      },
      "source": [
        "<a href=\"https://colab.research.google.com/github/alfonso777/deeplearning-rehearsal/blob/master/deeeplarning_pytorch.ipynb\" target=\"_parent\"><img src=\"https://colab.research.google.com/assets/colab-badge.svg\" alt=\"Open In Colab\"/></a>"
      ]
    },
    {
      "cell_type": "markdown",
      "metadata": {
        "id": "VjlylrU8oq4g",
        "colab_type": "text"
      },
      "source": [
        "# Deep Learning with PyTorch\n",
        "\n",
        "**Author**: Jhosimar George Arias Figueroa\n",
        "\n",
        "Based on ([PyTorch Tutorials](https://pytorch.org/tutorials/)) with some modifications."
      ]
    },
    {
      "cell_type": "markdown",
      "metadata": {
        "id": "qiAJfPvNpctm",
        "colab_type": "text"
      },
      "source": [
        "\n",
        "What is PyTorch?\n",
        "================\n",
        "\n",
        "It’s a Python-based scientific computing package targeted at two sets of\n",
        "audiences:\n",
        "\n",
        "-  A replacement for NumPy to use the power of GPUs\n",
        "-  a deep learning research platform that provides maximum flexibility\n",
        "   and speed"
      ]
    },
    {
      "cell_type": "code",
      "metadata": {
        "id": "eHEGPSKLpzou",
        "colab_type": "code",
        "colab": {}
      },
      "source": [
        "import torch"
      ],
      "execution_count": 0,
      "outputs": []
    },
    {
      "cell_type": "markdown",
      "metadata": {
        "id": "LME9zEt6yhAw",
        "colab_type": "text"
      },
      "source": [
        "Getting Started\n",
        "---------------\n",
        "\n",
        "Tensors\n",
        "-------\n",
        "\n",
        "Tensors are similar to NumPy’s ndarrays, with the addition being that\n",
        "Tensors can also be used on a GPU to accelerate computing.\n"
      ]
    },
    {
      "cell_type": "markdown",
      "metadata": {
        "id": "C0UrUxtIzkKI",
        "colab_type": "text"
      },
      "source": [
        "Construct a 5x3 matrix, uninitialized:"
      ]
    },
    {
      "cell_type": "code",
      "metadata": {
        "id": "pLDiWrNNzliC",
        "colab_type": "code",
        "outputId": "c42fc877-7c04-4fa9-b111-d61057e9f545",
        "colab": {
          "base_uri": "https://localhost:8080/",
          "height": 102
        }
      },
      "source": [
        "x = torch.empty(5, 3)\n",
        "print(x)"
      ],
      "execution_count": 0,
      "outputs": [
        {
          "output_type": "stream",
          "text": [
            "tensor([[7.9914e-37, 0.0000e+00, 0.0000e+00],\n",
            "        [0.0000e+00, 0.0000e+00, 0.0000e+00],\n",
            "        [0.0000e+00, 0.0000e+00, 2.8026e-45],\n",
            "        [0.0000e+00, 1.1210e-44, 0.0000e+00],\n",
            "        [1.4013e-45, 0.0000e+00, 1.0643e+15]])\n"
          ],
          "name": "stdout"
        }
      ]
    },
    {
      "cell_type": "markdown",
      "metadata": {
        "id": "4xnvHMnJ0M_e",
        "colab_type": "text"
      },
      "source": [
        "Construct a randomly initialized matrix:"
      ]
    },
    {
      "cell_type": "code",
      "metadata": {
        "id": "Gu1ZwH_J0W8Q",
        "colab_type": "code",
        "outputId": "b64d9b1e-27d8-49a9-fe43-36211ea6c917",
        "colab": {
          "base_uri": "https://localhost:8080/",
          "height": 102
        }
      },
      "source": [
        "x = torch.rand(5, 3)\n",
        "print(x)"
      ],
      "execution_count": 0,
      "outputs": [
        {
          "output_type": "stream",
          "text": [
            "tensor([[0.8469, 0.4929, 0.2324],\n",
            "        [0.2289, 0.8863, 0.2346],\n",
            "        [0.1516, 0.3457, 0.7683],\n",
            "        [0.8728, 0.7493, 0.0541],\n",
            "        [0.7661, 0.7095, 0.7358]])\n"
          ],
          "name": "stdout"
        }
      ]
    },
    {
      "cell_type": "markdown",
      "metadata": {
        "id": "6JKHLo730a3B",
        "colab_type": "text"
      },
      "source": [
        "Construct a matrix filled zeros and of dtype long:"
      ]
    },
    {
      "cell_type": "code",
      "metadata": {
        "id": "VZTIYdrt0efn",
        "colab_type": "code",
        "outputId": "533629e5-47cf-49c9-8ee6-e622c4b2d9a6",
        "colab": {
          "base_uri": "https://localhost:8080/",
          "height": 102
        }
      },
      "source": [
        "x = torch.zeros(5, 3, dtype=torch.long)\n",
        "print(x)"
      ],
      "execution_count": 0,
      "outputs": [
        {
          "output_type": "stream",
          "text": [
            "tensor([[0, 0, 0],\n",
            "        [0, 0, 0],\n",
            "        [0, 0, 0],\n",
            "        [0, 0, 0],\n",
            "        [0, 0, 0]])\n"
          ],
          "name": "stdout"
        }
      ]
    },
    {
      "cell_type": "markdown",
      "metadata": {
        "id": "rg5GhH800ge_",
        "colab_type": "text"
      },
      "source": [
        "Construct a tensor directly from data:"
      ]
    },
    {
      "cell_type": "code",
      "metadata": {
        "id": "2f1oH_zB0izE",
        "colab_type": "code",
        "outputId": "39280ccb-8f96-4b2a-aab1-9d1a0e216cc8",
        "colab": {
          "base_uri": "https://localhost:8080/",
          "height": 34
        }
      },
      "source": [
        "x = torch.tensor([5.5, 3])\n",
        "print(x)"
      ],
      "execution_count": 0,
      "outputs": [
        {
          "output_type": "stream",
          "text": [
            "tensor([5.5000, 3.0000])\n"
          ],
          "name": "stdout"
        }
      ]
    },
    {
      "cell_type": "markdown",
      "metadata": {
        "id": "EpM___ZS08c0",
        "colab_type": "text"
      },
      "source": [
        "or create a tensor based on an existing tensor. These methods\n",
        "will reuse properties of the input tensor, e.g. dtype, unless\n",
        "new values are provided by user"
      ]
    },
    {
      "cell_type": "code",
      "metadata": {
        "id": "XjCklYfS09Mb",
        "colab_type": "code",
        "outputId": "c9f49b47-2057-40fe-c0ea-324e4ade78ec",
        "colab": {
          "base_uri": "https://localhost:8080/",
          "height": 187
        }
      },
      "source": [
        "x = x.new_ones(5, 3, dtype=torch.double)      # new_* methods take in sizes\n",
        "print(x)\n",
        "\n",
        "x = torch.randn_like(x, dtype=torch.float)    # override dtype!\n",
        "print(x)                                      # result has the same size"
      ],
      "execution_count": 0,
      "outputs": [
        {
          "output_type": "stream",
          "text": [
            "tensor([[1., 1., 1.],\n",
            "        [1., 1., 1.],\n",
            "        [1., 1., 1.],\n",
            "        [1., 1., 1.],\n",
            "        [1., 1., 1.]], dtype=torch.float64)\n",
            "tensor([[ 1.6221, -2.0021,  0.0463],\n",
            "        [ 0.4164,  0.5748,  0.9455],\n",
            "        [ 0.3360, -0.8761,  0.1201],\n",
            "        [-0.5228,  1.7988,  0.6103],\n",
            "        [-0.9601, -0.2519, -3.2160]])\n"
          ],
          "name": "stdout"
        }
      ]
    },
    {
      "cell_type": "markdown",
      "metadata": {
        "id": "Rg-cUr0A1Zrt",
        "colab_type": "text"
      },
      "source": [
        "Get its size:"
      ]
    },
    {
      "cell_type": "code",
      "metadata": {
        "id": "UA5jyXG21hOQ",
        "colab_type": "code",
        "outputId": "fe344226-6bd3-4843-bb9f-54f42cc3160b",
        "colab": {
          "base_uri": "https://localhost:8080/",
          "height": 34
        }
      },
      "source": [
        "print(x.size())"
      ],
      "execution_count": 0,
      "outputs": [
        {
          "output_type": "stream",
          "text": [
            "torch.Size([5, 3])\n"
          ],
          "name": "stdout"
        }
      ]
    },
    {
      "cell_type": "markdown",
      "metadata": {
        "id": "iI5lPw-A1jbJ",
        "colab_type": "text"
      },
      "source": [
        "<div class=\"alert alert-info\"><h4>Note</h4><p>``torch.Size`` is in fact a tuple, so it supports all tuple operations.</p></div>\n",
        "\n",
        "Operations\n",
        "----------\n",
        "\n",
        "There are multiple syntaxes for operations. In the following\n",
        "example, we will take a look at the addition operation.\n",
        "\n",
        "Addition: syntax 1"
      ]
    },
    {
      "cell_type": "code",
      "metadata": {
        "id": "hw7JfNm41vj-",
        "colab_type": "code",
        "outputId": "7637ea0b-1147-49ac-9ef8-bf926af950d5",
        "colab": {
          "base_uri": "https://localhost:8080/",
          "height": 102
        }
      },
      "source": [
        "y = torch.rand(5, 3)\n",
        "print(x + y)"
      ],
      "execution_count": 0,
      "outputs": [
        {
          "output_type": "stream",
          "text": [
            "tensor([[ 2.6177, -1.5782,  0.3608],\n",
            "        [ 0.5678,  0.7580,  1.6895],\n",
            "        [ 0.7335, -0.4324,  0.8854],\n",
            "        [-0.3362,  2.2373,  1.5348],\n",
            "        [-0.6646,  0.3290, -2.6985]])\n"
          ],
          "name": "stdout"
        }
      ]
    },
    {
      "cell_type": "markdown",
      "metadata": {
        "id": "R1eRTVdO1wKG",
        "colab_type": "text"
      },
      "source": [
        "Addition: syntax 2"
      ]
    },
    {
      "cell_type": "code",
      "metadata": {
        "id": "5fS2ffYE1xmG",
        "colab_type": "code",
        "outputId": "ac36a3e9-ba28-4604-f245-cea46851e658",
        "colab": {
          "base_uri": "https://localhost:8080/",
          "height": 102
        }
      },
      "source": [
        "print(torch.add(x, y))"
      ],
      "execution_count": 0,
      "outputs": [
        {
          "output_type": "stream",
          "text": [
            "tensor([[ 2.6177, -1.5782,  0.3608],\n",
            "        [ 0.5678,  0.7580,  1.6895],\n",
            "        [ 0.7335, -0.4324,  0.8854],\n",
            "        [-0.3362,  2.2373,  1.5348],\n",
            "        [-0.6646,  0.3290, -2.6985]])\n"
          ],
          "name": "stdout"
        }
      ]
    },
    {
      "cell_type": "markdown",
      "metadata": {
        "id": "ZUQq8p5c1zLT",
        "colab_type": "text"
      },
      "source": [
        "Addition: providing an output tensor as argument"
      ]
    },
    {
      "cell_type": "code",
      "metadata": {
        "id": "nCmp7xpN11FY",
        "colab_type": "code",
        "outputId": "22d8c875-ca01-489b-d48e-5f4dc0ad1e69",
        "colab": {
          "base_uri": "https://localhost:8080/",
          "height": 102
        }
      },
      "source": [
        "result = torch.empty(5, 3)\n",
        "torch.add(x, y, out=result)\n",
        "print(result)"
      ],
      "execution_count": 0,
      "outputs": [
        {
          "output_type": "stream",
          "text": [
            "tensor([[ 2.6177, -1.5782,  0.3608],\n",
            "        [ 0.5678,  0.7580,  1.6895],\n",
            "        [ 0.7335, -0.4324,  0.8854],\n",
            "        [-0.3362,  2.2373,  1.5348],\n",
            "        [-0.6646,  0.3290, -2.6985]])\n"
          ],
          "name": "stdout"
        }
      ]
    },
    {
      "cell_type": "markdown",
      "metadata": {
        "id": "bLTpiCUp12ep",
        "colab_type": "text"
      },
      "source": [
        "Addition: in-place"
      ]
    },
    {
      "cell_type": "code",
      "metadata": {
        "id": "mp8HuU1D14FS",
        "colab_type": "code",
        "outputId": "faf6824a-2ade-46e0-9eba-4dd3fc42c382",
        "colab": {
          "base_uri": "https://localhost:8080/",
          "height": 102
        }
      },
      "source": [
        "# adds x to y\n",
        "y.add_(x)\n",
        "print(y)"
      ],
      "execution_count": 0,
      "outputs": [
        {
          "output_type": "stream",
          "text": [
            "tensor([[ 2.6177, -1.5782,  0.3608],\n",
            "        [ 0.5678,  0.7580,  1.6895],\n",
            "        [ 0.7335, -0.4324,  0.8854],\n",
            "        [-0.3362,  2.2373,  1.5348],\n",
            "        [-0.6646,  0.3290, -2.6985]])\n"
          ],
          "name": "stdout"
        }
      ]
    },
    {
      "cell_type": "markdown",
      "metadata": {
        "id": "PKxTf--52NMx",
        "colab_type": "text"
      },
      "source": [
        "<div class=\"alert alert-info\"><h4>Note</h4><p>Any operation that mutates a tensor in-place is post-fixed with an ``_``.\n",
        "    For example: ``x.copy_(y)``, ``x.t_()``, will change ``x``.</p></div>\n",
        "\n",
        "Indexing\n",
        "--------\n",
        "\n",
        "You can use standard NumPy-like indexing with all bells and whistles!"
      ]
    },
    {
      "cell_type": "code",
      "metadata": {
        "id": "1qAaYgHM2S4z",
        "colab_type": "code",
        "outputId": "a0a40e5d-d6fe-4a40-bba9-0c23d7273b2d",
        "colab": {
          "base_uri": "https://localhost:8080/",
          "height": 34
        }
      },
      "source": [
        "print(x[:, 1])"
      ],
      "execution_count": 0,
      "outputs": [
        {
          "output_type": "stream",
          "text": [
            "tensor([-2.0021,  0.5748, -0.8761,  1.7988, -0.2519])\n"
          ],
          "name": "stdout"
        }
      ]
    },
    {
      "cell_type": "markdown",
      "metadata": {
        "id": "_yDbzVPS2aIM",
        "colab_type": "text"
      },
      "source": [
        "Resizing: If you want to resize/reshape tensor, you can use ``torch.view``:"
      ]
    },
    {
      "cell_type": "code",
      "metadata": {
        "id": "tYbjYCEV2aq3",
        "colab_type": "code",
        "outputId": "4a071dba-52e0-4daf-b7b1-e7e99335d66a",
        "colab": {
          "base_uri": "https://localhost:8080/"
        }
      },
      "source": [
        "x = torch.randn(4, 4)\n",
        "y = x.view(16)\n",
        "z = x.view(-1, 8)  # the size -1 is inferred from other dimensions\n",
        "print(x.size(), y.size(), z.size())"
      ],
      "execution_count": 0,
      "outputs": [
        {
          "output_type": "stream",
          "text": [
            "torch.Size([4, 4]) torch.Size([16]) torch.Size([2, 8])\n"
          ],
          "name": "stdout"
        }
      ]
    },
    {
      "cell_type": "markdown",
      "metadata": {
        "id": "D5JvnAHx2jcQ",
        "colab_type": "text"
      },
      "source": [
        "If you have a one element tensor, use ``.item()`` to get the value as a\n",
        "Python number"
      ]
    },
    {
      "cell_type": "code",
      "metadata": {
        "id": "Gyl2eQIZ2lXk",
        "colab_type": "code",
        "outputId": "b8ed7079-ac41-40eb-cb3a-46b20e6ba466",
        "colab": {
          "base_uri": "https://localhost:8080/"
        }
      },
      "source": [
        "x = torch.randn(1)\n",
        "print(x)\n",
        "print(x.item())"
      ],
      "execution_count": 0,
      "outputs": [
        {
          "output_type": "stream",
          "text": [
            "tensor([0.4673])\n",
            "0.4672677516937256\n"
          ],
          "name": "stdout"
        }
      ]
    },
    {
      "cell_type": "markdown",
      "metadata": {
        "id": "MknJe_9o2zsW",
        "colab_type": "text"
      },
      "source": [
        "**Read later:**\n",
        "\n",
        "\n",
        "  100+ Tensor operations, including transposing, indexing, slicing,\n",
        "  mathematical operations, linear algebra, random numbers, etc.,\n",
        "  are described [here](http://pytorch.org/docs/torch).\n",
        "\n",
        "NumPy Bridge\n",
        "------------\n",
        "\n",
        "Converting a Torch Tensor to a NumPy array and vice versa is a breeze.\n",
        "\n",
        "The Torch Tensor and NumPy array will share their underlying memory\n",
        "locations, and changing one will change the other.\n",
        "\n",
        "Converting a Torch Tensor to a NumPy Array\n",
        "------------------------------------------"
      ]
    },
    {
      "cell_type": "code",
      "metadata": {
        "id": "q_Ba16u222cI",
        "colab_type": "code",
        "outputId": "36d8adbb-5c1c-417a-8ded-2a923e3df492",
        "colab": {
          "base_uri": "https://localhost:8080/",
          "height": 34
        }
      },
      "source": [
        "a = torch.ones(5)\n",
        "print(a)"
      ],
      "execution_count": 0,
      "outputs": [
        {
          "output_type": "stream",
          "text": [
            "tensor([1., 1., 1., 1., 1.])\n"
          ],
          "name": "stdout"
        }
      ]
    },
    {
      "cell_type": "code",
      "metadata": {
        "id": "hNqKxqrs3XJC",
        "colab_type": "code",
        "outputId": "ae030f6a-06a5-473e-ca47-daa5f17e08e8",
        "colab": {
          "base_uri": "https://localhost:8080/"
        }
      },
      "source": [
        "b = a.numpy()\n",
        "print(b)"
      ],
      "execution_count": 0,
      "outputs": [
        {
          "output_type": "stream",
          "text": [
            "[1. 1. 1. 1. 1.]\n"
          ],
          "name": "stdout"
        }
      ]
    },
    {
      "cell_type": "markdown",
      "metadata": {
        "id": "BmSodfeP3aVe",
        "colab_type": "text"
      },
      "source": [
        "See how the numpy array changed in value."
      ]
    },
    {
      "cell_type": "code",
      "metadata": {
        "id": "CG5pYsEl3bkH",
        "colab_type": "code",
        "outputId": "5929bb07-85e1-42ff-fe30-1887374b6843",
        "colab": {
          "base_uri": "https://localhost:8080/"
        }
      },
      "source": [
        "a.add_(1)\n",
        "print(a)\n",
        "print(b)"
      ],
      "execution_count": 0,
      "outputs": [
        {
          "output_type": "stream",
          "text": [
            "tensor([2., 2., 2., 2., 2.])\n",
            "[2. 2. 2. 2. 2.]\n"
          ],
          "name": "stdout"
        }
      ]
    },
    {
      "cell_type": "markdown",
      "metadata": {
        "id": "-PLuIrT53fAz",
        "colab_type": "text"
      },
      "source": [
        "Converting NumPy Array to Torch Tensor\n",
        "--------------------------------------\n",
        "See how changing the np array changed the Torch Tensor automatically"
      ]
    },
    {
      "cell_type": "code",
      "metadata": {
        "id": "esDuzSyH3h1m",
        "colab_type": "code",
        "outputId": "3dc12591-a9d7-4a9d-f145-1cd22f4a9144",
        "colab": {
          "base_uri": "https://localhost:8080/"
        }
      },
      "source": [
        "import numpy as np\n",
        "a = np.ones(5)\n",
        "b = torch.from_numpy(a)\n",
        "np.add(a, 1, out=a)\n",
        "print(a)\n",
        "print(b)"
      ],
      "execution_count": 0,
      "outputs": [
        {
          "output_type": "stream",
          "text": [
            "[2. 2. 2. 2. 2.]\n",
            "tensor([2., 2., 2., 2., 2.], dtype=torch.float64)\n"
          ],
          "name": "stdout"
        }
      ]
    },
    {
      "cell_type": "markdown",
      "metadata": {
        "id": "eO7tF0cs3o6d",
        "colab_type": "text"
      },
      "source": [
        "All the Tensors on the CPU except a CharTensor support converting to\n",
        "NumPy and back.\n",
        "\n",
        "CUDA Tensors\n",
        "------------\n",
        "\n",
        "Tensors can be moved onto any device using the ``.to`` method."
      ]
    },
    {
      "cell_type": "code",
      "metadata": {
        "id": "EZeAlGD24jDq",
        "colab_type": "code",
        "colab": {}
      },
      "source": [
        "# let us run this cell only if CUDA is available\n",
        "# We will use ``torch.device`` objects to move tensors in and out of GPU\n",
        "if torch.cuda.is_available():\n",
        "    device = torch.device(\"cuda\")          # a CUDA device object\n",
        "    y = torch.ones_like(x, device=device)  # directly create a tensor on GPU\n",
        "    x = x.to(device)                       # or just use strings ``.to(\"cuda\")``\n",
        "    z = x + y\n",
        "    print(z)\n",
        "    print(z.to(\"cpu\", torch.double))       # ``.to`` can also change dtype together!"
      ],
      "execution_count": 0,
      "outputs": []
    },
    {
      "cell_type": "markdown",
      "metadata": {
        "id": "Tbr7NAEn6u5M",
        "colab_type": "text"
      },
      "source": [
        "\n",
        "Autograd: Automatic Differentiation\n",
        "===================================\n",
        "\n",
        "Central to all neural networks in PyTorch is the ``autograd`` package.\n",
        "Let’s first briefly visit this, and we will then go to training our\n",
        "first neural network.\n",
        "\n",
        "\n",
        "The ``autograd`` package provides automatic differentiation for all operations\n",
        "on Tensors. It is a define-by-run framework, which means that your backprop is\n",
        "defined by how your code is run, and that every single iteration can be\n",
        "different.\n",
        "\n",
        "Let us see this in more simple terms with some examples.\n",
        "\n",
        "Tensor\n",
        "--------\n",
        "\n",
        "``torch.Tensor`` is the central class of the package. If you set its attribute ``.requires_grad`` as ``True``, it starts to track all operations on it. When\n",
        "you finish your computation you can call ``.backward()`` and have all the\n",
        "gradients computed automatically. The gradient for this tensor will be\n",
        "accumulated into ``.grad`` attribute.\n",
        "\n",
        "To stop a tensor from tracking history, you can call ``.detach()`` to detach it from the computation history, and to prevent future computation from being tracked.\n",
        "\n",
        "If you want to compute the derivatives, you can call ``.backward()`` on\n",
        "a ``Tensor``. If ``Tensor`` is a scalar (i.e. it holds a one element\n",
        "data), you don’t need to specify any arguments to ``backward()``,\n",
        "however if it has more elements, you need to specify a ``gradient``\n",
        "argument that is a tensor of matching shape."
      ]
    },
    {
      "cell_type": "markdown",
      "metadata": {
        "id": "Av4yCHTx7ig1",
        "colab_type": "text"
      },
      "source": [
        "Create a tensor and set requires_grad=True to track computation with it"
      ]
    },
    {
      "cell_type": "code",
      "metadata": {
        "id": "CvRaW8EE7AEy",
        "colab_type": "code",
        "outputId": "0114654a-1108-40bd-bc3f-039f8e1d64c7",
        "colab": {
          "base_uri": "https://localhost:8080/",
          "height": 52
        }
      },
      "source": [
        "x = torch.ones(2, 2, requires_grad=True)\n",
        "print(x)"
      ],
      "execution_count": 0,
      "outputs": [
        {
          "output_type": "stream",
          "text": [
            "tensor([[1., 1.],\n",
            "        [1., 1.]], requires_grad=True)\n"
          ],
          "name": "stdout"
        }
      ]
    },
    {
      "cell_type": "markdown",
      "metadata": {
        "id": "Tv604DqR7m6G",
        "colab_type": "text"
      },
      "source": [
        "Do an operation of tensor:"
      ]
    },
    {
      "cell_type": "code",
      "metadata": {
        "id": "TDrcxL5e7w_o",
        "colab_type": "code",
        "outputId": "3c56249b-a673-4bcc-8a6a-c80c40737ed8",
        "colab": {
          "base_uri": "https://localhost:8080/",
          "height": 52
        }
      },
      "source": [
        "y = x + 2\n",
        "print(y)"
      ],
      "execution_count": 0,
      "outputs": [
        {
          "output_type": "stream",
          "text": [
            "tensor([[3., 3.],\n",
            "        [3., 3.]], grad_fn=<AddBackward0>)\n"
          ],
          "name": "stdout"
        }
      ]
    },
    {
      "cell_type": "markdown",
      "metadata": {
        "id": "ot-K4o5bCm4o",
        "colab_type": "text"
      },
      "source": [
        "Do more operations on y"
      ]
    },
    {
      "cell_type": "code",
      "metadata": {
        "id": "eUNjW6CYCnU-",
        "colab_type": "code",
        "outputId": "933aab17-2707-452c-e52b-8fe4145af2d1",
        "colab": {
          "base_uri": "https://localhost:8080/",
          "height": 52
        }
      },
      "source": [
        "z = y * y * 3\n",
        "out = z.mean()\n",
        "\n",
        "print(z, out)"
      ],
      "execution_count": 0,
      "outputs": [
        {
          "output_type": "stream",
          "text": [
            "tensor([[27., 27.],\n",
            "        [27., 27.]], grad_fn=<MulBackward0>) tensor(27., grad_fn=<MeanBackward0>)\n"
          ],
          "name": "stdout"
        }
      ]
    },
    {
      "cell_type": "markdown",
      "metadata": {
        "id": "R6ZjhCeTCpU8",
        "colab_type": "text"
      },
      "source": [
        "``.requires_grad_( ... )`` changes an existing Tensor's ``requires_grad``\n",
        "flag in-place. The input flag defaults to ``False`` if not given."
      ]
    },
    {
      "cell_type": "code",
      "metadata": {
        "id": "faRtw2lmCsAn",
        "colab_type": "code",
        "outputId": "b38193c0-bed0-46c0-dfef-1827343a17d8",
        "colab": {
          "base_uri": "https://localhost:8080/",
          "height": 69
        }
      },
      "source": [
        "a = torch.randn(2, 2)\n",
        "a = ((a * 3) / (a - 1))\n",
        "print(a.requires_grad)\n",
        "a.requires_grad_(True)\n",
        "print(a.requires_grad)\n",
        "b = (a * a).sum()\n",
        "print(b.grad_fn)"
      ],
      "execution_count": 0,
      "outputs": [
        {
          "output_type": "stream",
          "text": [
            "False\n",
            "True\n",
            "<SumBackward0 object at 0x7f46d1c578d0>\n"
          ],
          "name": "stdout"
        }
      ]
    },
    {
      "cell_type": "markdown",
      "metadata": {
        "id": "D3OkO2AQC0lz",
        "colab_type": "text"
      },
      "source": [
        "Gradients\n",
        "---------\n",
        "Let's backprop now. Because ``out`` contains a single scalar, ``out.backward()`` is\n",
        "equivalent to ``out.backward(torch.tensor(1))``."
      ]
    },
    {
      "cell_type": "code",
      "metadata": {
        "id": "Fo66V7-lC1FV",
        "colab_type": "code",
        "colab": {}
      },
      "source": [
        "out.backward()"
      ],
      "execution_count": 0,
      "outputs": []
    },
    {
      "cell_type": "markdown",
      "metadata": {
        "id": "fovfxAf2C23T",
        "colab_type": "text"
      },
      "source": [
        "\n",
        "print gradients d(out)/dx"
      ]
    },
    {
      "cell_type": "code",
      "metadata": {
        "id": "4ywzCJSOC8A6",
        "colab_type": "code",
        "outputId": "69d054a0-db72-4347-8fba-52be0b94ecb3",
        "colab": {
          "base_uri": "https://localhost:8080/"
        }
      },
      "source": [
        "print(x.grad)"
      ],
      "execution_count": 0,
      "outputs": [
        {
          "output_type": "stream",
          "text": [
            "tensor([[4.5000, 4.5000],\n",
            "        [4.5000, 4.5000]])\n"
          ],
          "name": "stdout"
        }
      ]
    },
    {
      "cell_type": "markdown",
      "metadata": {
        "id": "AFaJch6NC9uE",
        "colab_type": "text"
      },
      "source": [
        "You should have got a matrix of ``4.5``. Let’s call the ``out``\n",
        "*Tensor* “$o$”.\n",
        "We have that $o = \\frac{1}{4}\\sum_i z_i$,\n",
        "$z_i = 3(x_i+2)^2$ and $z_i\\bigr\\rvert_{x_i=1} = 27$.\n",
        "Therefore,\n",
        "$\\frac{\\partial o}{\\partial x_i} = \\frac{3}{2}(x_i+2)$, hence\n",
        "$\\frac{\\partial o}{\\partial x_i}\\bigr\\rvert_{x_i=1} = \\frac{9}{2} = 4.5$.\n",
        "\n",
        "You can do many crazy things with autograd!"
      ]
    },
    {
      "cell_type": "code",
      "metadata": {
        "id": "2Nf3MhXQDAuV",
        "colab_type": "code",
        "outputId": "a3769ed5-a4c6-449a-c3b1-ef48059c0f1c",
        "colab": {
          "base_uri": "https://localhost:8080/"
        }
      },
      "source": [
        "x = torch.randn(3, requires_grad=True)\n",
        "\n",
        "y = x * 2\n",
        "while y.data.norm() < 1000:\n",
        "    y = y * 2\n",
        "\n",
        "print(y)"
      ],
      "execution_count": 0,
      "outputs": [
        {
          "output_type": "stream",
          "text": [
            "tensor([-1044.6628,  -303.0750,   414.6512], grad_fn=<MulBackward0>)\n"
          ],
          "name": "stdout"
        }
      ]
    },
    {
      "cell_type": "code",
      "metadata": {
        "id": "8fl6KhFBDDlf",
        "colab_type": "code",
        "outputId": "570ac708-049c-41a9-adf8-edbed86dfad1",
        "colab": {
          "base_uri": "https://localhost:8080/"
        }
      },
      "source": [
        "gradients = torch.tensor([0.1, 1.0, 0.0001], dtype=torch.float)\n",
        "y.backward(gradients)\n",
        "\n",
        "print(x.grad)"
      ],
      "execution_count": 0,
      "outputs": [
        {
          "output_type": "stream",
          "text": [
            "tensor([5.1200e+01, 5.1200e+02, 5.1200e-02])\n"
          ],
          "name": "stdout"
        }
      ]
    },
    {
      "cell_type": "markdown",
      "metadata": {
        "id": "a1GGst-ODRO5",
        "colab_type": "text"
      },
      "source": [
        "You can also stop autograd from tracking history on Tensors\n",
        "with ``.requires_grad=True`` by wrapping the code block in\n",
        "``with torch.no_grad()``:"
      ]
    },
    {
      "cell_type": "code",
      "metadata": {
        "id": "UbPhPn7lDRlo",
        "colab_type": "code",
        "outputId": "ac5d64d0-1e16-42da-a046-334c580ac65e",
        "colab": {
          "base_uri": "https://localhost:8080/"
        }
      },
      "source": [
        "print(x.requires_grad)\n",
        "print((x ** 2).requires_grad)\n",
        "\n",
        "with torch.no_grad():\n",
        "\tprint((x ** 2).requires_grad)"
      ],
      "execution_count": 0,
      "outputs": [
        {
          "output_type": "stream",
          "text": [
            "True\n",
            "True\n",
            "False\n"
          ],
          "name": "stdout"
        }
      ]
    },
    {
      "cell_type": "markdown",
      "metadata": {
        "id": "u1CW8vNQMeZg",
        "colab_type": "text"
      },
      "source": [
        "Let's see another example"
      ]
    },
    {
      "cell_type": "code",
      "metadata": {
        "id": "i1qMIuS-Mgfx",
        "colab_type": "code",
        "colab": {}
      },
      "source": [
        "x = torch.tensor(1., requires_grad=True)\n",
        "w = torch.tensor(2., requires_grad=True)\n",
        "b = torch.tensor(3., requires_grad=True)"
      ],
      "execution_count": 0,
      "outputs": []
    },
    {
      "cell_type": "markdown",
      "metadata": {
        "id": "LmmbELA-Mkl3",
        "colab_type": "text"
      },
      "source": [
        "Build a computational graph"
      ]
    },
    {
      "cell_type": "code",
      "metadata": {
        "id": "45FuKx8NMmOb",
        "colab_type": "code",
        "colab": {}
      },
      "source": [
        "y = w * x + b    # y = 2 * x + 3"
      ],
      "execution_count": 0,
      "outputs": []
    },
    {
      "cell_type": "markdown",
      "metadata": {
        "id": "hpxQUJ0RMny1",
        "colab_type": "text"
      },
      "source": [
        "Compute gradients"
      ]
    },
    {
      "cell_type": "code",
      "metadata": {
        "id": "UeXMRkmSMpLA",
        "colab_type": "code",
        "colab": {}
      },
      "source": [
        "y.backward()"
      ],
      "execution_count": 0,
      "outputs": []
    },
    {
      "cell_type": "markdown",
      "metadata": {
        "id": "AOxBzdGOMrM4",
        "colab_type": "text"
      },
      "source": [
        "Print out the gradients."
      ]
    },
    {
      "cell_type": "code",
      "metadata": {
        "id": "ASh9N-7CMs5d",
        "colab_type": "code",
        "outputId": "faa688c0-9fad-4bc0-e319-311c7aa6306e",
        "colab": {
          "base_uri": "https://localhost:8080/"
        }
      },
      "source": [
        "print(x.grad)    # x.grad = 2 \n",
        "print(w.grad)    # w.grad = 1 \n",
        "print(b.grad)    # b.grad = 1 "
      ],
      "execution_count": 0,
      "outputs": [
        {
          "output_type": "stream",
          "text": [
            "tensor(2.)\n",
            "tensor(1.)\n",
            "tensor(1.)\n"
          ],
          "name": "stdout"
        }
      ]
    },
    {
      "cell_type": "markdown",
      "metadata": {
        "id": "sM8eOoxFDU-t",
        "colab_type": "text"
      },
      "source": [
        "**Read Later:**\n",
        "\n",
        "Documentation of ``autograd`` and ``Function`` is at\n",
        "http://pytorch.org/docs/autograd\n"
      ]
    },
    {
      "cell_type": "markdown",
      "metadata": {
        "id": "GpY2NJ4BYVjk",
        "colab_type": "text"
      },
      "source": [
        "Neural Networks\n",
        "===============\n",
        "\n",
        "Neural networks can be constructed using the ``torch.nn`` package.\n",
        "\n",
        "Now that you had a glimpse of ``autograd``, ``nn`` depends on\n",
        "``autograd`` to define models and differentiate them.\n",
        "An ``nn.Module`` contains layers, and a method ``forward(input)`` that\n",
        "returns the ``output``.\n",
        "\n",
        "For example, look at this network that classifies digit images:\n",
        "\n",
        "![alt text](https://pytorch.org/tutorials/_images/mnist.png)\n",
        "\n",
        "It is a simple feed-forward network. It takes the input, feeds it\n",
        "through several layers one after the other, and then finally gives the\n",
        "output.\n",
        "\n",
        "A typical training procedure for a neural network is as follows:\n",
        "\n",
        "- Define the neural network that has some learnable parameters (or\n",
        "  weights)\n",
        "- Iterate over a dataset of inputs\n",
        "- Process input through the network\n",
        "- Compute the loss (how far is the output from being correct)\n",
        "- Propagate gradients back into the network’s parameters\n",
        "- Update the weights of the network, typically using a simple update rule:\n",
        "  ``weight = weight - learning_rate * gradient``"
      ]
    },
    {
      "cell_type": "code",
      "metadata": {
        "id": "7l3YHL5pdYxp",
        "colab_type": "code",
        "colab": {}
      },
      "source": [
        "import torch\n",
        "from torch import nn\n",
        "from torch.nn import functional as F"
      ],
      "execution_count": 0,
      "outputs": []
    },
    {
      "cell_type": "markdown",
      "metadata": {
        "id": "WOlkDtbWd2kd",
        "colab_type": "text"
      },
      "source": [
        "\n",
        "Fully Connected Networks\n",
        "------------------\n",
        "\n",
        "Let’s define a network:"
      ]
    },
    {
      "cell_type": "code",
      "metadata": {
        "id": "GtTVNHlbar2O",
        "colab_type": "code",
        "colab": {}
      },
      "source": [
        "# Fully connected neural network with one hidden layer\n",
        "class NeuralNet(nn.Module):\n",
        "  def __init__(self, input_size, hidden_size, num_classes):\n",
        "    super(NeuralNet, self).__init__()\n",
        "    self.fc1 = nn.Linear(input_size, hidden_size) \n",
        "    self.relu = nn.ReLU()\n",
        "    self.fc2 = nn.Linear(hidden_size, num_classes)  \n",
        "    \n",
        "  def forward(self, x):\n",
        "    out = self.fc1(x)\n",
        "    out = self.relu(out)\n",
        "    out = self.fc2(out)\n",
        "    return out"
      ],
      "execution_count": 0,
      "outputs": []
    },
    {
      "cell_type": "code",
      "metadata": {
        "id": "hHQHYd-NdUVG",
        "colab_type": "code",
        "outputId": "574aaad2-9f2a-46a7-eabd-4cda10841814",
        "colab": {
          "base_uri": "https://localhost:8080/",
          "height": 102
        }
      },
      "source": [
        "input_size = 20\n",
        "hidden_size = 15\n",
        "num_classes = 10\n",
        "\n",
        "model = NeuralNet(input_size, hidden_size, num_classes)\n",
        "print(model)"
      ],
      "execution_count": 0,
      "outputs": [
        {
          "output_type": "stream",
          "text": [
            "NeuralNet(\n",
            "  (fc1): Linear(in_features=20, out_features=15, bias=True)\n",
            "  (relu): ReLU()\n",
            "  (fc2): Linear(in_features=15, out_features=10, bias=True)\n",
            ")\n"
          ],
          "name": "stdout"
        }
      ]
    },
    {
      "cell_type": "markdown",
      "metadata": {
        "id": "-AOlJFnzezCE",
        "colab_type": "text"
      },
      "source": [
        "You just have to define the forward function, and the backward function (where gradients are computed) is automatically defined for you using autograd. You can use any of the Tensor operations in the forward function.\n",
        "\n",
        "The learnable parameters of a model are returned by model.parameters()"
      ]
    },
    {
      "cell_type": "code",
      "metadata": {
        "id": "4gev2eY5eFYE",
        "colab_type": "code",
        "outputId": "de314a32-c655-4021-ee3a-4629505349e7",
        "colab": {
          "base_uri": "https://localhost:8080/",
          "height": 51
        }
      },
      "source": [
        "params = list(model.parameters())\n",
        "print(len(params))\n",
        "print(params[0].size())  # fc1 .weight"
      ],
      "execution_count": 0,
      "outputs": [
        {
          "output_type": "stream",
          "text": [
            "4\n",
            "torch.Size([15, 20])\n"
          ],
          "name": "stdout"
        }
      ]
    },
    {
      "cell_type": "markdown",
      "metadata": {
        "id": "RTeKPYSRfCxf",
        "colab_type": "text"
      },
      "source": [
        "Let's try a random input Note: Expected input size to this model was defined before."
      ]
    },
    {
      "cell_type": "code",
      "metadata": {
        "id": "twSNH1IMe5QC",
        "colab_type": "code",
        "outputId": "c244a9c6-5fcd-4fd5-88e8-0c911ee2e934",
        "colab": {
          "base_uri": "https://localhost:8080/",
          "height": 357
        }
      },
      "source": [
        "input = torch.randn(10, input_size)\n",
        "out = model(input)\n",
        "print(out)"
      ],
      "execution_count": 0,
      "outputs": [
        {
          "output_type": "stream",
          "text": [
            "tensor([[-0.3366, -0.3262,  0.1262,  0.1122, -0.1648,  0.0553,  0.2974, -0.3317,\n",
            "         -0.0131, -0.1660],\n",
            "        [-0.4316, -0.2825,  0.4979,  0.3525,  0.1117, -0.4154,  0.4297, -0.1031,\n",
            "         -0.3312, -0.1835],\n",
            "        [-0.3514, -0.3875,  0.3004,  0.2543, -0.2015, -0.1148, -0.0224, -0.1745,\n",
            "         -0.0507, -0.1782],\n",
            "        [-0.2525, -0.2263,  0.1872, -0.1303,  0.2125,  0.1513,  0.2712, -0.0705,\n",
            "         -0.2999, -0.1302],\n",
            "        [-0.3813, -0.3078,  0.1688,  0.1435,  0.1487,  0.1494,  0.1553,  0.0492,\n",
            "         -0.1610, -0.1348],\n",
            "        [-0.4707, -0.3278,  0.5179,  0.1582, -0.2517, -0.8252,  0.6730, -0.3209,\n",
            "         -0.4717, -0.1371],\n",
            "        [-0.8131, -0.5913, -0.1869,  0.5097,  0.1530,  0.4011,  0.3889, -0.0513,\n",
            "         -0.2964, -0.2796],\n",
            "        [-0.6971, -0.2598,  0.6605,  0.0241,  0.0891, -0.4725,  0.6968, -0.1004,\n",
            "         -0.2265, -0.2517],\n",
            "        [-0.3585, -0.2651,  0.3954, -0.0247, -0.0337, -0.3034,  0.5450, -0.4167,\n",
            "         -0.2986, -0.2984],\n",
            "        [-0.5471, -0.4258,  0.5384,  0.0743, -0.2511, -0.6443,  0.6901, -0.2217,\n",
            "         -0.3102, -0.2488]], grad_fn=<AddmmBackward>)\n"
          ],
          "name": "stdout"
        }
      ]
    },
    {
      "cell_type": "markdown",
      "metadata": {
        "id": "XVLznLuRfcaN",
        "colab_type": "text"
      },
      "source": [
        "Zero the gradient buffers of all parameters and backprops with random\n",
        "gradients:"
      ]
    },
    {
      "cell_type": "code",
      "metadata": {
        "id": "eUpR09TCfWQt",
        "colab_type": "code",
        "colab": {}
      },
      "source": [
        "model.zero_grad()\n",
        "out.backward(torch.randn(10, 10))"
      ],
      "execution_count": 0,
      "outputs": []
    },
    {
      "cell_type": "markdown",
      "metadata": {
        "id": "iAQ0u395zNNa",
        "colab_type": "text"
      },
      "source": [
        "Loss Function\n",
        "-------------\n",
        "A loss function takes the (output, target) pair of inputs, and computes a\n",
        "value that estimates how far away the output is from the target.\n",
        "\n",
        "There are several different loss functions http://pytorch.org/docs/nn.html under the\n",
        "nn package .\n",
        "A simple loss is: ``nn.MSELoss`` which computes the mean-squared error\n",
        "between the input and the target.\n",
        "\n",
        "For example:"
      ]
    },
    {
      "cell_type": "code",
      "metadata": {
        "id": "C32eznk0z_b7",
        "colab_type": "code",
        "outputId": "13b66a80-eaeb-4d83-f488-76a0245b99e6",
        "colab": {
          "base_uri": "https://localhost:8080/",
          "height": 34
        }
      },
      "source": [
        "target = torch.randn(10, 10)  # a dummy target, for example\n",
        "criterion = nn.MSELoss()\n",
        "\n",
        "loss = criterion(out, target)\n",
        "print(loss)"
      ],
      "execution_count": 0,
      "outputs": [
        {
          "output_type": "stream",
          "text": [
            "tensor(1.1787, grad_fn=<MseLossBackward>)\n"
          ],
          "name": "stdout"
        }
      ]
    },
    {
      "cell_type": "markdown",
      "metadata": {
        "id": "AP0YCtXJ0bLv",
        "colab_type": "text"
      },
      "source": [
        "Now, if you follow ``loss`` in the backward direction, using its\n",
        "``.grad_fn`` attribute, you will see a graph of computations that looks\n",
        "like this:\n",
        "\n",
        "\n",
        "    input -> fc1 -> relu -> fc2 -> MSELoss  -> loss\n",
        "\n",
        "So, when we call ``loss.backward()``, the whole graph is differentiated\n",
        "w.r.t. the loss, and all Tensors in the graph that has ``requires_grad=True``\n",
        "will have their ``.grad`` Tensor accumulated with the gradient.\n",
        "\n",
        "For illustration, let us follow a few steps backward:\n",
        "\n"
      ]
    },
    {
      "cell_type": "code",
      "metadata": {
        "id": "L7vWeL7y0wng",
        "colab_type": "code",
        "outputId": "6a9babbd-7d33-41b2-8d75-54ccb3e2b897",
        "colab": {
          "base_uri": "https://localhost:8080/"
        }
      },
      "source": [
        "print(loss.grad_fn)  # MSELoss\n",
        "print(loss.grad_fn.next_functions[0][0])  # Linear\n",
        "print(loss.grad_fn.next_functions[0][0].next_functions[0][0])  # ReLU"
      ],
      "execution_count": 0,
      "outputs": [
        {
          "output_type": "stream",
          "text": [
            "<MseLossBackward object at 0x7f46d1bfae10>\n",
            "<AddmmBackward object at 0x7f46d1bfae48>\n",
            "<AccumulateGrad object at 0x7f46d1bfae10>\n"
          ],
          "name": "stdout"
        }
      ]
    },
    {
      "cell_type": "markdown",
      "metadata": {
        "id": "dVI5xNYw1hh_",
        "colab_type": "text"
      },
      "source": [
        "Backprop\n",
        "--------\n",
        "To backpropagate the error all we have to do is to ``loss.backward()``.\n",
        "You need to clear the existing gradients though, else gradients will be\n",
        "accumulated to existing gradients.\n",
        "\n",
        "\n",
        "Now we shall call ``loss.backward()``, and have a look at conv1's bias\n",
        "gradients before and after the backward.\n"
      ]
    },
    {
      "cell_type": "code",
      "metadata": {
        "id": "Imr_lvvu1k_O",
        "colab_type": "code",
        "outputId": "de4f8ff0-c964-4d5f-9fe9-fbb867c32f1e",
        "colab": {
          "base_uri": "https://localhost:8080/",
          "height": 102
        }
      },
      "source": [
        "model.zero_grad()     # zeroes the gradient buffers of all parameters\n",
        "\n",
        "print('fc1.bias.grad before backward')\n",
        "print(model.fc1.bias.grad)\n",
        "\n",
        "loss.backward()\n",
        "\n",
        "print('fc1.bias.grad after backward')\n",
        "print(model.fc1.bias.grad)"
      ],
      "execution_count": 0,
      "outputs": [
        {
          "output_type": "stream",
          "text": [
            "fc1.bias.grad before backward\n",
            "None\n",
            "fc1.bias.grad after backward\n",
            "tensor([-0.0006, -0.0044,  0.0501,  0.0357, -0.0167, -0.0191,  0.0358, -0.0173,\n",
            "         0.0400, -0.0256,  0.0004, -0.0032, -0.0110,  0.0080,  0.0099])\n"
          ],
          "name": "stdout"
        }
      ]
    },
    {
      "cell_type": "markdown",
      "metadata": {
        "id": "E5iohnXu1qPF",
        "colab_type": "text"
      },
      "source": [
        "Now, we have seen how to use loss functions.\n",
        "\n",
        "**Read Later:**\n",
        "\n",
        "  The neural network package contains various modules and loss functions\n",
        "  that form the building blocks of deep neural networks. A full list with\n",
        "  documentation is `here <http://pytorch.org/docs/nn>`_.\n",
        "\n",
        "**The only thing left to learn is:**\n",
        "\n",
        "  - Updating the weights of the network\n",
        "\n",
        "Update the weights\n",
        "------------------\n",
        "The simplest update rule used in practice is the Stochastic Gradient\n",
        "Descent (SGD):\n",
        "\n",
        "     ``weight = weight - learning_rate * gradient``\n",
        "\n",
        "We can implement this using simple python code:\n",
        "\n",
        "    learning_rate = 0.01\n",
        "    for f in net.parameters():\n",
        "        f.data.sub_(f.grad.data * learning_rate)\n",
        "\n",
        "However, as you use neural networks, you want to use various different\n",
        "update rules such as SGD, Nesterov-SGD, Adam, RMSProp, etc.\n",
        "To enable this, we built a small package: ``torch.optim`` that\n",
        "implements all these methods. Using it is very simple:\n",
        "\n"
      ]
    },
    {
      "cell_type": "code",
      "metadata": {
        "id": "xc1pjqPk1uMD",
        "colab_type": "code",
        "colab": {}
      },
      "source": [
        "import torch.optim as optim\n",
        "\n",
        "# create your optimizer\n",
        "optimizer = optim.SGD(model.parameters(), lr=0.01)\n",
        "\n",
        "# in your training loop:\n",
        "optimizer.zero_grad()   # zero the gradient buffers\n",
        "output = model(input)\n",
        "loss = criterion(output, target)\n",
        "loss.backward()\n",
        "optimizer.step()    # Does the update"
      ],
      "execution_count": 0,
      "outputs": []
    },
    {
      "cell_type": "markdown",
      "metadata": {
        "id": "GX0kmS-T2TWz",
        "colab_type": "text"
      },
      "source": [
        "Note\n",
        "\n",
        "      Observe how gradient buffers had to be manually set to zero using\n",
        "      ``optimizer.zero_grad()``. This is because gradients are accumulated\n",
        "      as explained in `Backprop`_ section."
      ]
    },
    {
      "cell_type": "markdown",
      "metadata": {
        "id": "xE386lR0RHxI",
        "colab_type": "text"
      },
      "source": [
        "\n",
        "What about data?\n",
        "----------------\n",
        "\n",
        "Generally, when you have to deal with image, text, audio or video data,\n",
        "you can use standard python packages that load data into a numpy array.\n",
        "Then you can convert this array into a ``torch.*Tensor``.\n",
        "\n",
        "-  For images, packages such as Pillow, OpenCV are useful\n",
        "-  For audio, packages such as scipy and librosa\n",
        "-  For text, either raw Python or Cython based loading, or NLTK and\n",
        "   SpaCy are useful\n",
        "\n",
        "Specifically for vision, we have created a package called\n",
        "[torchvision](https://pytorch.org/docs/stable/torchvision/index.html), that has data loaders for common datasets such as\n",
        "Imagenet, CIFAR10, MNIST, etc. and data transformers for images, viz.,\n",
        "``torchvision.datasets`` and ``torch.utils.data.DataLoader``.\n",
        "\n",
        "This provides a huge convenience and avoids writing boilerplate code."
      ]
    },
    {
      "cell_type": "code",
      "metadata": {
        "id": "uam2mH9bhu8k",
        "colab_type": "code",
        "colab": {}
      },
      "source": [
        "import torch\n",
        "import torchvision\n",
        "import torchvision.transforms as transforms"
      ],
      "execution_count": 0,
      "outputs": []
    },
    {
      "cell_type": "markdown",
      "metadata": {
        "id": "LZscgOOKR3Gg",
        "colab_type": "text"
      },
      "source": [
        "The output of torchvision datasets are PILImage images of range [0, 1]."
      ]
    },
    {
      "cell_type": "code",
      "metadata": {
        "id": "D7YiCwmnRhrK",
        "colab_type": "code",
        "outputId": "4e5e3015-b75b-4da2-ad22-12e6bc6e9cc3",
        "colab": {
          "base_uri": "https://localhost:8080/",
          "height": 275
        }
      },
      "source": [
        "batch_size = 100\n",
        "\n",
        "# MNIST dataset (images and labels)\n",
        "train_dataset = torchvision.datasets.MNIST(root='../../data', \n",
        "                                           train=True, \n",
        "                                           transform=transforms.ToTensor(),\n",
        "                                           download=True)\n",
        "\n",
        "test_dataset = torchvision.datasets.MNIST(root='../../data', \n",
        "                                          train=False, \n",
        "                                          transform=transforms.ToTensor())"
      ],
      "execution_count": 0,
      "outputs": [
        {
          "output_type": "stream",
          "text": [
            "\r0it [00:00, ?it/s]"
          ],
          "name": "stderr"
        },
        {
          "output_type": "stream",
          "text": [
            "Downloading http://yann.lecun.com/exdb/mnist/train-images-idx3-ubyte.gz to ../../data/MNIST/raw/train-images-idx3-ubyte.gz\n"
          ],
          "name": "stdout"
        },
        {
          "output_type": "stream",
          "text": [
            "9920512it [00:01, 8096628.61it/s]                            \n"
          ],
          "name": "stderr"
        },
        {
          "output_type": "stream",
          "text": [
            "Extracting ../../data/MNIST/raw/train-images-idx3-ubyte.gz to ../../data/MNIST/raw\n"
          ],
          "name": "stdout"
        },
        {
          "output_type": "stream",
          "text": [
            "  0%|          | 0/28881 [00:00<?, ?it/s]"
          ],
          "name": "stderr"
        },
        {
          "output_type": "stream",
          "text": [
            "Downloading http://yann.lecun.com/exdb/mnist/train-labels-idx1-ubyte.gz to ../../data/MNIST/raw/train-labels-idx1-ubyte.gz\n"
          ],
          "name": "stdout"
        },
        {
          "output_type": "stream",
          "text": [
            "32768it [00:00, 125071.39it/s]           \n",
            "  0%|          | 0/1648877 [00:00<?, ?it/s]"
          ],
          "name": "stderr"
        },
        {
          "output_type": "stream",
          "text": [
            "Extracting ../../data/MNIST/raw/train-labels-idx1-ubyte.gz to ../../data/MNIST/raw\n",
            "Downloading http://yann.lecun.com/exdb/mnist/t10k-images-idx3-ubyte.gz to ../../data/MNIST/raw/t10k-images-idx3-ubyte.gz\n"
          ],
          "name": "stdout"
        },
        {
          "output_type": "stream",
          "text": [
            "1654784it [00:00, 2052471.73it/s]                            \n",
            "0it [00:00, ?it/s]"
          ],
          "name": "stderr"
        },
        {
          "output_type": "stream",
          "text": [
            "Extracting ../../data/MNIST/raw/t10k-images-idx3-ubyte.gz to ../../data/MNIST/raw\n",
            "Downloading http://yann.lecun.com/exdb/mnist/t10k-labels-idx1-ubyte.gz to ../../data/MNIST/raw/t10k-labels-idx1-ubyte.gz\n"
          ],
          "name": "stdout"
        },
        {
          "output_type": "stream",
          "text": [
            "8192it [00:00, 47322.18it/s]            \n"
          ],
          "name": "stderr"
        },
        {
          "output_type": "stream",
          "text": [
            "Extracting ../../data/MNIST/raw/t10k-labels-idx1-ubyte.gz to ../../data/MNIST/raw\n",
            "Processing...\n",
            "Done!\n"
          ],
          "name": "stdout"
        }
      ]
    },
    {
      "cell_type": "markdown",
      "metadata": {
        "id": "YTrlUk1MV_QN",
        "colab_type": "text"
      },
      "source": [
        "Data Partition"
      ]
    },
    {
      "cell_type": "code",
      "metadata": {
        "id": "20WxJaLGWApE",
        "colab_type": "code",
        "colab": {}
      },
      "source": [
        "def partition_dataset(dataset, proportion=0.8):\n",
        "  n = len(dataset)\n",
        "  train_size = int(n * proportion)\n",
        "  test_size = n - train_size\n",
        "  train_dataset, val_dataset = torch.utils.data.random_split(dataset, [train_size, test_size])\n",
        "  return train_dataset, val_dataset"
      ],
      "execution_count": 0,
      "outputs": []
    },
    {
      "cell_type": "markdown",
      "metadata": {
        "id": "ESFgJ1CnWCFw",
        "colab_type": "text"
      },
      "source": [
        "Obtain Validation Data"
      ]
    },
    {
      "cell_type": "code",
      "metadata": {
        "id": "zv5e38uQWDhS",
        "colab_type": "code",
        "colab": {}
      },
      "source": [
        "_train_dataset, _val_dataset = partition_dataset(train_dataset, 0.8)"
      ],
      "execution_count": 0,
      "outputs": []
    },
    {
      "cell_type": "code",
      "metadata": {
        "id": "p2m6fLIVV7UH",
        "colab_type": "code",
        "colab": {}
      },
      "source": [
        "# Data loader (input pipeline)\n",
        "train_loader = torch.utils.data.DataLoader(dataset=_train_dataset, \n",
        "                                           batch_size=batch_size, \n",
        "                                           shuffle=True)\n",
        "\n",
        "val_loader = torch.utils.data.DataLoader(dataset=_val_dataset, \n",
        "                                           batch_size=batch_size, \n",
        "                                           shuffle=False)\n",
        "\n",
        "test_loader = torch.utils.data.DataLoader(dataset=test_dataset, \n",
        "                                          batch_size=batch_size, \n",
        "                                          shuffle=False)"
      ],
      "execution_count": 0,
      "outputs": []
    },
    {
      "cell_type": "markdown",
      "metadata": {
        "id": "yt-febMESQKb",
        "colab_type": "text"
      },
      "source": [
        "Let us show some of the training images, for fun."
      ]
    },
    {
      "cell_type": "code",
      "metadata": {
        "id": "zx8aSUtaR_0c",
        "colab_type": "code",
        "colab": {}
      },
      "source": [
        "# get some random training images\n",
        "dataiter = iter(train_loader)\n",
        "images, labels = dataiter.next() #images  (B x C x H x W), labels (B)"
      ],
      "execution_count": 0,
      "outputs": []
    },
    {
      "cell_type": "code",
      "metadata": {
        "id": "HpnsByJkSXwM",
        "colab_type": "code",
        "outputId": "4d06d7b7-7b90-46c3-a111-e453e0b2f6e8",
        "colab": {
          "base_uri": "https://localhost:8080/",
          "height": 286
        }
      },
      "source": [
        "import matplotlib.pyplot as plt\n",
        "import numpy as np\n",
        "\n",
        "# show images\n",
        "grid = torchvision.utils.make_grid(images, 10)\n",
        "npimg = grid.numpy()\n",
        "plt.imshow(np.transpose(grid, (1, 2, 0)))\n"
      ],
      "execution_count": 0,
      "outputs": [
        {
          "output_type": "execute_result",
          "data": {
            "text/plain": [
              "<matplotlib.image.AxesImage at 0x7f12d76383c8>"
            ]
          },
          "metadata": {
            "tags": []
          },
          "execution_count": 20
        },
        {
          "output_type": "display_data",
          "data": {
            "image/png": "[encoded data removed]",
            "text/plain": [
              "<Figure size 432x288 with 1 Axes>"
            ]
          },
          "metadata": {
            "tags": []
          }
        }
      ]
    },
    {
      "cell_type": "markdown",
      "metadata": {
        "id": "-5Reet3fWm4L",
        "colab_type": "text"
      },
      "source": [
        "# Define a Neural Network"
      ]
    },
    {
      "cell_type": "code",
      "metadata": {
        "id": "QJmsWoh7XgCp",
        "colab_type": "code",
        "colab": {}
      },
      "source": [
        "input_size = 784\n",
        "hidden_size = 500\n",
        "num_classes = 10\n",
        "learning_rate = 1e-8\n",
        "model = NeuralNet(input_size, hidden_size, num_classes)"
      ],
      "execution_count": 0,
      "outputs": []
    },
    {
      "cell_type": "markdown",
      "metadata": {
        "id": "qVTXZBp6XoHW",
        "colab_type": "text"
      },
      "source": [
        "Loss and Optimizer"
      ]
    },
    {
      "cell_type": "code",
      "metadata": {
        "id": "hsO1feLsSzUC",
        "colab_type": "code",
        "colab": {}
      },
      "source": [
        "# Loss and optimizer\n",
        "# nn.CrossEntropyLoss() computes softmax internally\n",
        "criterion = nn.CrossEntropyLoss()  \n",
        "optimizer = torch.optim.SGD(model.parameters(), lr=learning_rate) "
      ],
      "execution_count": 0,
      "outputs": []
    },
    {
      "cell_type": "markdown",
      "metadata": {
        "id": "y-a41o7uYANb",
        "colab_type": "text"
      },
      "source": [
        "Train the model"
      ]
    },
    {
      "cell_type": "code",
      "metadata": {
        "id": "YJmWItqrUQ_A",
        "colab_type": "code",
        "outputId": "78ff8d84-7a11-421f-e0a5-f3c07bfd9f43",
        "colab": {
          "base_uri": "https://localhost:8080/",
          "height": 364
        }
      },
      "source": [
        "num_epochs = 5\n",
        "\n",
        "total_step = len(train_loader)\n",
        "for epoch in range(num_epochs):\n",
        "  for i, (images, labels) in enumerate(train_loader):\n",
        "    # Reshape images to (batch_size, input_size)\n",
        "    images = images.reshape(-1, 28*28)\n",
        "    # Forward pass\n",
        "    outputs = model(images)\n",
        "    loss = criterion(outputs, labels)\n",
        "        \n",
        "    # Backward and optimize\n",
        "    optimizer.zero_grad()\n",
        "    loss.backward()\n",
        "    optimizer.step()\n",
        "        \n",
        "    if (i+1) % 100 == 0:\n",
        "      print ('Epoch [{}/{}], Step [{}/{}], Loss: {:.4f}'.format(epoch+1, num_epochs, i+1, total_step, loss.item()))"
      ],
      "execution_count": 0,
      "outputs": [
        {
          "output_type": "stream",
          "text": [
            "Epoch [1/5], Step [100/480], Loss: 2.3202\n",
            "Epoch [1/5], Step [200/480], Loss: 2.3034\n",
            "Epoch [1/5], Step [300/480], Loss: 2.3100\n",
            "Epoch [1/5], Step [400/480], Loss: 2.3149\n",
            "Epoch [2/5], Step [100/480], Loss: 2.3301\n",
            "Epoch [2/5], Step [200/480], Loss: 2.3031\n",
            "Epoch [2/5], Step [300/480], Loss: 2.3156\n",
            "Epoch [2/5], Step [400/480], Loss: 2.3195\n",
            "Epoch [3/5], Step [100/480], Loss: 2.3115\n",
            "Epoch [3/5], Step [200/480], Loss: 2.3122\n",
            "Epoch [3/5], Step [300/480], Loss: 2.3176\n",
            "Epoch [3/5], Step [400/480], Loss: 2.3137\n",
            "Epoch [4/5], Step [100/480], Loss: 2.3155\n",
            "Epoch [4/5], Step [200/480], Loss: 2.3122\n",
            "Epoch [4/5], Step [300/480], Loss: 2.3124\n",
            "Epoch [4/5], Step [400/480], Loss: 2.3329\n",
            "Epoch [5/5], Step [100/480], Loss: 2.3129\n",
            "Epoch [5/5], Step [200/480], Loss: 2.3231\n",
            "Epoch [5/5], Step [300/480], Loss: 2.3100\n",
            "Epoch [5/5], Step [400/480], Loss: 2.2955\n"
          ],
          "name": "stdout"
        }
      ]
    },
    {
      "cell_type": "markdown",
      "metadata": {
        "id": "zZ7o0NiVZCX1",
        "colab_type": "text"
      },
      "source": [
        "Validate the Model"
      ]
    },
    {
      "cell_type": "code",
      "metadata": {
        "id": "ZsT9xu40YyaZ",
        "colab_type": "code",
        "outputId": "c8f66914-a517-493e-f921-5b27290798f6",
        "colab": {
          "base_uri": "https://localhost:8080/",
          "height": 34
        }
      },
      "source": [
        "# Test the model\n",
        "# In test phase, we don't need to compute gradients (for memory efficiency)\n",
        "with torch.no_grad():\n",
        "  correct = 0\n",
        "  total = 0\n",
        "  for images, labels in val_loader:\n",
        "    images = images.reshape(-1, 28*28)\n",
        "    outputs = model(images)\n",
        "    _, predicted = torch.max(outputs.data, 1)\n",
        "    total += labels.size(0)\n",
        "    correct += (predicted == labels).sum()\n",
        "\n",
        "print('Accuracy of the model on the 10000 test images: {} %'.format(100 * correct / total))"
      ],
      "execution_count": 0,
      "outputs": [
        {
          "output_type": "stream",
          "text": [
            "Accuracy of the model on the 10000 test images: 8 %\n"
          ],
          "name": "stdout"
        }
      ]
    },
    {
      "cell_type": "markdown",
      "metadata": {
        "id": "axp6df5GZ5Jw",
        "colab_type": "text"
      },
      "source": [
        "Training on GPU"
      ]
    },
    {
      "cell_type": "code",
      "metadata": {
        "id": "zTdeNOaGZbbs",
        "colab_type": "code",
        "outputId": "7faf92b5-8fba-481d-8cdf-ff8f369e139c",
        "colab": {
          "base_uri": "https://localhost:8080/",
          "height": 34
        }
      },
      "source": [
        "device = torch.device(\"cuda:0\" if torch.cuda.is_available() else \"cpu\")\n",
        "\n",
        "# Assume that we are on a CUDA machine, then this should print a CUDA device:\n",
        "\n",
        "print(device)"
      ],
      "execution_count": 0,
      "outputs": [
        {
          "output_type": "stream",
          "text": [
            "cpu\n"
          ],
          "name": "stdout"
        }
      ]
    },
    {
      "cell_type": "markdown",
      "metadata": {
        "id": "EPA5Z9AbaFql",
        "colab_type": "text"
      },
      "source": [
        "The rest of this section assumes that `device` is a CUDA device.\n",
        "\n",
        "Then these methods will recursively go over all modules and convert their\n",
        "parameters and buffers to CUDA tensors:\n",
        "\n",
        "\n",
        "    net.to(device)\n",
        "\n",
        "\n",
        "Remember that you will have to send the inputs and targets at every step\n",
        "to the GPU too:\n",
        "\n",
        "    inputs, labels = inputs.to(device), labels.to(device)\n",
        "\n",
        "Why dont I notice MASSIVE speedup compared to CPU? Because your network\n",
        "is really small."
      ]
    },
    {
      "cell_type": "code",
      "metadata": {
        "id": "StqeSbzEZ9K7",
        "colab_type": "code",
        "colab": {}
      },
      "source": [
        ""
      ],
      "execution_count": 0,
      "outputs": []
    },
    {
      "cell_type": "code",
      "metadata": {
        "id": "NGtCLSPcWHbR",
        "colab_type": "code",
        "colab": {}
      },
      "source": [
        ""
      ],
      "execution_count": 0,
      "outputs": []
    },
    {
      "cell_type": "code",
      "metadata": {
        "id": "VOEra7aqWHhQ",
        "colab_type": "code",
        "colab": {}
      },
      "source": [
        ""
      ],
      "execution_count": 0,
      "outputs": []
    }
  ]
}